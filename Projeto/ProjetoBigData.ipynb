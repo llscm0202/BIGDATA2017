{
 "cells": [
  {
   "cell_type": "code",
   "execution_count": 2,
   "metadata": {
    "collapsed": false
   },
   "outputs": [
    {
     "name": "stdout",
     "output_type": "stream",
     "text": [
      "[(0, 8), (1, 5), (2, 4), (3, 5), (4, 8), (5, 5), (6, 2), (7, 1), (8, 2), (9, 5), (10, 4), (11, 1), (13, 1), (14, 4), (15, 5), (16, 2), (17, 1), (18, 2), (19, 5), (20, 8), (21, 5), (22, 4), (23, 5), (24, 8), (12, 1)] \n",
      "\n"
     ]
    }
   ],
   "source": [
    "from pyspark import SparkContext\n",
    "sc =SparkContext()\n",
    "import cv2\n",
    "import numpy as np\n",
    "import sys\n",
    "\n",
    "def getDistance(pontoA,pontoB,sizeLine):\n",
    "    if pontoA[1] == 1:\n",
    "        return 0\n",
    "    if pontoB[1] == 0:\n",
    "        return np.iinfo(np.int32).max\n",
    "    pontoAi = pontoA[0]/sizeLine\n",
    "    pontoBi = pontoB[0]/sizeLine\n",
    "    pontoAj = pontoA[0]%sizeLine\n",
    "    pontoBj = pontoB[0]%sizeLine\n",
    "        \n",
    "    return ((pontoAi-pontoBi)**2 + (pontoAj-pontoBj)**2)\n",
    "    \n",
    "\n",
    "myImage = [0,0,0,0,0 , 0,0,0,0,0 , 0,0,1,0,0 , 0,0,0,0,0 , 0,0,0,0,0]\n",
    "rddImage = sc.parallelize(myImage)\n",
    "rddImageWithId = rddImage.zipWithIndex().map(lambda (x,y):(y,x))\n",
    "rddImageObject = rddImageWithId.filter(lambda (x,y): y!=0)\n",
    "rddImageBackG = rddImageWithId.filter(lambda(x,y):y==0)\n",
    "rddImageBackAlgo = rddImageBackG.cartesian(rddImageObject)\n",
    "\n",
    "print rddImageBackAlgo.map(lambda (x,y):(x[0],getDistance(x,y,5))).reduceByKey(lambda x,y: min(x,y)).union(rddImageObject).collect(),\"\\n\""
   ]
  },
  {
   "cell_type": "code",
   "execution_count": null,
   "metadata": {
    "collapsed": true
   },
   "outputs": [],
   "source": []
  }
 ],
 "metadata": {
  "kernelspec": {
   "display_name": "Python 2",
   "language": "python",
   "name": "python2"
  },
  "language_info": {
   "codemirror_mode": {
    "name": "ipython",
    "version": 2
   },
   "file_extension": ".py",
   "mimetype": "text/x-python",
   "name": "python",
   "nbconvert_exporter": "python",
   "pygments_lexer": "ipython2",
   "version": "2.7.13"
  }
 },
 "nbformat": 4,
 "nbformat_minor": 2
}
